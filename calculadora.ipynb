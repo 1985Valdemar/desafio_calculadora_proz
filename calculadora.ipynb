{
 "cells": [
  {
   "cell_type": "markdown",
   "metadata": {},
   "source": [
    "Faça uma função calculadora de dois números com três parâmetros: os dois primeiros serão os números da operação e o terceiro será a entrada que definirá a operação a ser executada. Considera a seguinte definição:\n",
    "1. Soma\n",
    "2. Subtração\n",
    "3. Multiplicação\n",
    "4. Divisão\n",
    "\n",
    "Caso seja inserido um número de operação que não exista, o resultado deverá ser 0.\n",
    "\n",
    "Trabalhe esse código em seu IDE, suba ele para sua conta no GitHub e compartilhe o link desse projeto no campo ao lado para que outros desenvolvedores possam analisá-lo."
   ]
  },
  {
   "cell_type": "code",
   "execution_count": 8,
   "metadata": {},
   "outputs": [
    {
     "name": "stdout",
     "output_type": "stream",
     "text": [
      "Soma: 5.0\n",
      "Subtração: 5.0\n",
      "Multiplicação: 0.0\n",
      "Divisão: 0\n"
     ]
    }
   ],
   "source": [
    "def soma(a, b):\n",
    "    \"\"\"\n",
    "    Retorna a soma de dois números.\n",
    "    \"\"\"\n",
    "    return a + b\n",
    "\n",
    "def subtrai(a, b):\n",
    "    \"\"\"\n",
    "    Retorna a diferença entre dois números.\n",
    "    \"\"\"\n",
    "    return a - b\n",
    "\n",
    "def multiplica(a, b):\n",
    "    \"\"\"\n",
    "    Retorna o produto de dois números.\n",
    "    \"\"\"\n",
    "    return a * b\n",
    "\n",
    "def divide(a, b):\n",
    "    \"\"\"\n",
    "    Retorna o resultado da divisão do primeiro número pelo segundo número.\n",
    "    \"\"\"\n",
    "    if b != 0:\n",
    "        return a / b\n",
    "    else:\n",
    "        return 0\n",
    "\n",
    "# Exemplo de uso\n",
    "num1 = float(input(\"Digite o primeiro número: \"))\n",
    "num2 = float(input(\"Digite o segundo número: \"))\n",
    "\n",
    "print(f\"Soma: {soma(num1, num2)}\")\n",
    "print(f\"Subtração: {subtrai(num1, num2)}\")\n",
    "print(f\"Multiplicação: {multiplica(num1, num2)}\")\n",
    "print(f\"Divisão: {divide(num1, num2)}\")\n"
   ]
  },
  {
   "cell_type": "markdown",
   "metadata": {},
   "source": [
    "Otimizando manual a apresentação dos reultados mas não tive muito sucesso"
   ]
  },
  {
   "cell_type": "code",
   "execution_count": 20,
   "metadata": {},
   "outputs": [
    {
     "name": "stdout",
     "output_type": "stream",
     "text": [
      "Escolha a operação:\n",
      "1. Soma\n",
      "2. Subtração\n",
      "3. Multiplicação\n",
      "4. Divisão\n",
      "Resultado da operação: 5.0  1  5.0 = 10.00\n"
     ]
    }
   ],
   "source": [
    "def calculadora(num1, num2, operacao):\n",
    "    \"\"\"\n",
    "    Calculadora que realiza operações de soma, subtração, multiplicação ou divisão.\n",
    "    Args:\n",
    "        num1 (float): Primeiro número.\n",
    "        num2 (float): Segundo número.\n",
    "        operacao (int): Número da operação a ser executada (1 para soma, 2 para subtração, 3 para multiplicação, 4 para divisão).\n",
    "    Returns:\n",
    "        float: Resultado da operação.\n",
    "    \"\"\"\n",
    "    if operacao == 1 :\n",
    "        return num1 + num2\n",
    "    elif operacao == 2:\n",
    "        return num1 - num2\n",
    "    elif operacao == 3:\n",
    "        return num1 * num2\n",
    "    elif operacao == 4:\n",
    "        if num2 != 0:\n",
    "            return num1 / num2\n",
    "        else:\n",
    "            return 0\n",
    "    else:\n",
    "        return 0\n",
    "\n",
    "# Exemplo de uso\n",
    "print(\"Escolha a operação:\")\n",
    "print(\"1. Soma\")\n",
    "print(\"2. Subtração\")\n",
    "print(\"3. Multiplicação\")\n",
    "print(\"4. Divisão\")\n",
    "num1 = float(input(\"Digite o primeiro número: \"))\n",
    "num2 = float(input(\"Digite o segundo número: \"))\n",
    "operacao = int(input(\"Digite o número da operação desejada: \"))\n",
    "\n",
    "resultado = calculadora(num1, num2, operacao)\n",
    "print(f\"Resultado da operação: {num1}  {operacao}  {num2} = {resultado:.2f}\")\n"
   ]
  },
  {
   "cell_type": "markdown",
   "metadata": {},
   "source": [
    "Otimizado Código com Inteligência artificial para ficar elegante a apresentação do Resultado da operação: 5.0 + 5.0 = 10.00\n",
    "\n",
    "https://www.bing.com/search?pglt=2083&q=def+calculadora%28num1%2C+num2%2C+operacao%29%3A+operacoes+%3D+%7B+1%3A+num1+%2B+num2%2C+2%3A+num1+-+num2%2C+3%3A+num1+*+num2%2C+4%3A+num1+%2F+num2+%7D+return+operacoes.get%28operacao%2C+0%29+operacoes+%3D+%5B%22Soma%22%2C+%22Subtra%C3%A7%C3%A3o%22%2C+%22Multiplica%C3%A7%C3%A3o%22%2C+%22Divis%C3%A3o%22%5D+print%28%22Escolha+a+opera%C3%A7%C3%A3o%3A%22%29+for+i%2C+operacao+in+enumerate%28operacoes%2C+start%3D1%29%3A+print%28f%22%7Bi%7D.+%7Boperacao%7D%22%29+num1+%3D+float%28input%28%22Digite+o+primeiro+n%C3%BAmero%3A+%22%29%29+num2+%3D+float%28input%28%22Digite+o+segundo+n%C3%BAmero%3A+%22%29%29+operacao+%3D+int%28input%28%22Digite+o+n%C3%BAmero+da+opera%C3%A7%C3%A3o+desejada%3A+%22%29%29+if+operacao+%3D%3D+4+and+num2+%3D%3D+0%3A+print%28%22Erro%3A+divis%C3%A3o+por+zero%21%22%29+else%3A+resultado+%3D+calculadora%28num1%2C+num2%2C+operacao%29+simbolo_operacao+%3D+%22%2B-*%2F%22%5Boperacao+-+1%5D+print%28f%22Resultado+da+opera%C3%A7%C3%A3o%3A+%7Bnum1%7D+%7Bsimbolo_operacao%7D+%7Bnum2%7D+%3D+%7Bresultado%3A.2f%7D%22%29&cvid=f4eb7bdb44544f70a7e531552eec656c&gs_lcrp=EgZjaHJvbWUyBggAEEUYOdIBCDEzMjBqMGoxqAIAsAIA&FORM=ANNTA1&PC=U531&showconv=1"
   ]
  },
  {
   "cell_type": "code",
   "execution_count": 21,
   "metadata": {},
   "outputs": [
    {
     "name": "stdout",
     "output_type": "stream",
     "text": [
      "Escolha a operação:\n",
      "1. Soma\n",
      "2. Subtração\n",
      "3. Multiplicação\n",
      "4. Divisão\n",
      "Resultado da operação: 5.0 + 5.0 = 10.00\n"
     ]
    }
   ],
   "source": [
    "def calculadora(num1, num2, operacao):\n",
    "    if operacao == 1:\n",
    "        return num1 + num2\n",
    "    elif operacao == 2:\n",
    "        return num1 - num2\n",
    "    elif operacao == 3:\n",
    "        return num1 * num2\n",
    "    elif operacao == 4 and num2 != 0:\n",
    "        return num1 / num2\n",
    "    else:\n",
    "        return 0\n",
    "\n",
    "operacoes = [\"Soma\", \"Subtração\", \"Multiplicação\", \"Divisão\"]\n",
    "print(\"Escolha a operação:\")\n",
    "for i, operacao in enumerate(operacoes, start=1):\n",
    "    print(f\"{i}. {operacao}\")\n",
    "\n",
    "num1 = float(input(\"Digite o primeiro número: \"))\n",
    "num2 = float(input(\"Digite o segundo número: \"))\n",
    "operacao = int(input(\"Digite o número da operação desejada: \"))\n",
    "\n",
    "resultado = calculadora(num1, num2, operacao)\n",
    "simbolo_operacao = \"+\" if operacao == 1 else \"-\" if operacao == 2 else \"*\" if operacao == 3 else \"/\"\n",
    "print(f\"Resultado da operação: {num1} {simbolo_operacao} {num2} = {resultado:.2f}\")\n"
   ]
  },
  {
   "cell_type": "markdown",
   "metadata": {},
   "source": [
    "Otimizado Código com Inteligência artificial para ficar elegante a apresentação do Resultado da operação: 5.0 + 5.0 = 10.00\n",
    "Chat GPT 3.5"
   ]
  },
  {
   "cell_type": "code",
   "execution_count": 1,
   "metadata": {},
   "outputs": [
    {
     "name": "stdout",
     "output_type": "stream",
     "text": [
      "Escolha a operação:\n",
      "1. Soma\n",
      "2. Subtração\n",
      "3. Multiplicação\n",
      "4. Divisão\n",
      "Resultado da operação: 5.0 + 5.0 = 10.00\n"
     ]
    }
   ],
   "source": [
    "def calculadora(num1, num2, operacao):\n",
    "    operacoes = {\n",
    "        1: num1 + num2,\n",
    "        2: num1 - num2,\n",
    "        3: num1 * num2,\n",
    "        4: num1 / num2\n",
    "    }\n",
    "    return operacoes.get(operacao, 0)\n",
    "\n",
    "operacoes = [\"Soma\", \"Subtração\", \"Multiplicação\", \"Divisão\"]\n",
    "print(\"Escolha a operação:\")\n",
    "for i, operacao in enumerate(operacoes, start=1):\n",
    "    print(f\"{i}. {operacao}\")\n",
    "\n",
    "num1 = float(input(\"Digite o primeiro número: \"))\n",
    "num2 = float(input(\"Digite o segundo número: \"))\n",
    "\n",
    "operacao = int(input(\"Digite o número da operação desejada: \"))\n",
    "\n",
    "if operacao == 4 and num2 == 0:\n",
    "    print(\"Erro: divisão por zero!\")\n",
    "else:\n",
    "    resultado = calculadora(num1, num2, operacao)\n",
    "    simbolo_operacao = \"+-*/\"[operacao - 1]\n",
    "    print(f\"Resultado da operação: {num1} {simbolo_operacao} {num2} = {resultado:.2f}\")\n"
   ]
  }
 ],
 "metadata": {
  "kernelspec": {
   "display_name": "Python 3",
   "language": "python",
   "name": "python3"
  },
  "language_info": {
   "codemirror_mode": {
    "name": "ipython",
    "version": 3
   },
   "file_extension": ".py",
   "mimetype": "text/x-python",
   "name": "python",
   "nbconvert_exporter": "python",
   "pygments_lexer": "ipython3",
   "version": "3.12.0"
  }
 },
 "nbformat": 4,
 "nbformat_minor": 2
}
